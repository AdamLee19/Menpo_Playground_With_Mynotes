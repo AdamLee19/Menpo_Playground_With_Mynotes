{
 "cells": [
  {
   "cell_type": "code",
   "execution_count": 18,
   "metadata": {
    "collapsed": true
   },
   "outputs": [],
   "source": [
    "%matplotlib inline\n",
    "import numpy as np\n",
    "from menpo.image import Image\n",
    "import os\n",
    "import menpo.io as mio\n",
    "\n",
    "avrg = mio.import_landmark_file('average.pts')\n",
    "a = mio.import_landmark_file('a.pts')\n",
    "img = Image.init_blank([804, 688],fill=255)"
   ]
  },
  {
   "cell_type": "code",
   "execution_count": 19,
   "metadata": {
    "collapsed": false
   },
   "outputs": [
    {
     "data": {
      "text/plain": [
       "<menpo.visualize.viewmatplotlib.MatplotlibLandmarkViewer2d at 0x130535710>"
      ]
     },
     "execution_count": 19,
     "metadata": {},
     "output_type": "execute_result"
    },
    {
     "data": {
      "image/png": "[encoded data removed]",
      "text/plain": [
       "<matplotlib.figure.Figure at 0x12e99f5f8>"
      ]
     },
     "metadata": {},
     "output_type": "display_data"
    }
   ],
   "source": [
    "from menpowidgets import visualize_landmarkgroups, visualize_landmarks\n",
    "img.landmarks['avg'] = avrg\n",
    "img.landmarks['a'] = a\n",
    "viewer = img.view_landmarks(group='a',marker_size=1);\n",
    "img.view_landmarks(group='avg', figure_id=viewer.figure_id, marker_face_colour='g', marker_edge_colour='k')"
   ]
  },
  {
   "cell_type": "code",
   "execution_count": null,
   "metadata": {
    "collapsed": true
   },
   "outputs": [],
   "source": []
  },
  {
   "cell_type": "code",
   "execution_count": null,
   "metadata": {
    "collapsed": true
   },
   "outputs": [],
   "source": []
  }
 ],
 "metadata": {
  "kernelspec": {
   "display_name": "Python 3",
   "language": "python",
   "name": "python3"
  },
  "language_info": {
   "codemirror_mode": {
    "name": "ipython",
    "version": 3
   },
   "file_extension": ".py",
   "mimetype": "text/x-python",
   "name": "python",
   "nbconvert_exporter": "python",
   "pygments_lexer": "ipython3",
   "version": "3.5.2"
  }
 },
 "nbformat": 4,
 "nbformat_minor": 0
}
