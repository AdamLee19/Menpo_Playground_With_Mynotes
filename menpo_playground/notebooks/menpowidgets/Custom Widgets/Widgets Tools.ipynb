{
 "cells": [
  {
   "cell_type": "markdown",
   "metadata": {},
   "source": [
    "# Widgets Tools\n",
    "\n",
    "Herein, we present `MenpoWidgets`'s basic widget tools that implement lower level widget functionalities, such as colour selection, zoom options, axes options, etc. These are the main ingredients in order to synthesize higher-level widget classes, such as the ones presented in _Widgets Components.ipynb_. All the widgets of this category live in `menpowidgets.tools`. \n",
    "\n",
    "Below we present the functionalities of each one of them separately. Specifically we split this notebook in the following subsections:\n",
    "\n",
    "1. [__Basics__](#sec:basics)\n",
    "2. [__Menpo Logo__](#sec:logo)\n",
    "3. [__List Definition and Slicing__](#sec:list)\n",
    "4. [__Colour Selection__](#sec:colour)\n",
    "5. [__Index Selection__](#sec:index)\n",
    "6. [__Zoom__](#sec:zoom)\n",
    "7. [__Image Options__](#sec:image)\n",
    "8. [__Line Options__](#sec:line)\n",
    "9. [__Marker Options__](#sec:marker)\n",
    "10. [__Numbering Options__](#sec:numbering)\n",
    "11. [__Axes Options__](#sec:axes)\n",
    "12. [__Legend Options__](#sec:legend)\n",
    "13. [__Grid Options__](#sec:grid)\n",
    "14. [__HOG, DSIFT, Daisy, LBP, IGO Options__](#sec:features)"
   ]
  },
  {
   "cell_type": "markdown",
   "metadata": {},
   "source": [
    "## <a name=\"sec:basics\"></a>1. Basics\n",
    "As explained in the _Introduction.ipynb_ notebook, all the widgets presented here are subclasses of `menpo.abstract.MenpoWidget`, thus they follow the same rules, which are:\n",
    "\n",
    "* They expect as input the initial options, as well as the rendering callback function.\n",
    "* They implement `add_render_function()`, `remove_render_function()`, `replace_render_function()` and `call_render_function()`.\n",
    "* They implement `set_widget_state()`, which updates the widget state with a new set of options.\n",
    "* They implement `style()` which takes a set of options that change the style of the widget, such as font-related options, border-related options, etc.\n",
    "\n",
    "Before presenting each widget separately, let's first import the things that are required."
   ]
  },
  {
   "cell_type": "code",
   "execution_count": 1,
   "metadata": {
    "collapsed": true
   },
   "outputs": [],
   "source": [
    "from menpowidgets.tools import (LogoWidget, ListWidget, SlicingCommandWidget, ColourSelectionWidget, \n",
    "                                IndexButtonsWidget, IndexSliderWidget, ZoomOneScaleWidget, ZoomTwoScalesWidget, \n",
    "                                ImageOptionsWidget, LineOptionsWidget, MarkerOptionsWidget, NumberingOptionsWidget, \n",
    "                                AxesLimitsWidget, AxesTicksWidget, AxesOptionsWidget, LegendOptionsWidget, \n",
    "                                GridOptionsWidget, HOGOptionsWidget, DSIFTOptionsWidget, DaisyOptionsWidget, \n",
    "                                LBPOptionsWidget, IGOOptionsWidget)\n",
    "from menpowidgets.style import map_styles_to_hex_colours"
   ]
  },
  {
   "cell_type": "markdown",
   "metadata": {},
   "source": [
    "Let us also define a generic print function that will be the callback trigger when the `selected_values` _trait_ of all the widgets changes.\n",
    "\n",
    "The function must have a single argument, which will be a `dict` with the following keys:\n",
    "* `'name'`: The name of the _trait_ that is monitored and triggers the callback. In the case of a `MenpoWidget` subclass, this is always `'selected_values'`.\n",
    "* `'type'`: The type of event that happens on the _trait_. In the case of a `MenpoWidget` subclass, this is always `'change'`.\n",
    "* `'new'`: The currently selected value attached to `selected_values`.\n",
    "* `'old'`: The previous value of `selected_values`.\n",
    "* `'owner'`: Pointer to the widget object.\n",
    "\n",
    "Consequently, the selected values of a widget object (e.g. `wid`) can be retrieved in any of the following 3 equivalent ways:\n",
    "1. `wid.selected_values`\n",
    "2. `change['new']`\n",
    "3. `change['owner'].selected_values`\n",
    "\n",
    "For this notebook, we choose the second way which is independent of the widget object."
   ]
  },
  {
   "cell_type": "code",
   "execution_count": 2,
   "metadata": {
    "collapsed": true
   },
   "outputs": [],
   "source": [
    "from menpo.visualize import print_dynamic\n",
    "\n",
    "def render_function(change):\n",
    "    print(change['new'])"
   ]
  },
  {
   "cell_type": "markdown",
   "metadata": {},
   "source": [
    "## <a name=\"sec:logo\"></a>2. Menpo Logo"
   ]
  },
  {
   "cell_type": "markdown",
   "metadata": {},
   "source": [
    "This is a simple widget that can be used for embedding an image into an `ipywidgets` widget are using the `ipywidgets.Image` class."
   ]
  },
  {
   "cell_type": "code",
   "execution_count": 2,
   "metadata": {
    "collapsed": false
   },
   "outputs": [],
   "source": [
    "from menpowidgets.tools import LogoWidget\n",
    "LogoWidget(style='danger')\n"
   ]
  },
  {
   "cell_type": "markdown",
   "metadata": {},
   "source": [
    "## <a name=\"sec:list\"></a>3. List Definition and Slicing"
   ]
  },
  {
   "cell_type": "markdown",
   "metadata": {},
   "source": [
    "_MenpoWidgets_ has a widget for defining a `list` of numbers. The widget is smart enough to accept any valid python command, such as \n",
    "```python\n",
    "'range(10)', '[1, 2, 3]', '10'\n",
    "```\n",
    "and complain about syntactic mistakes. It can be defined to expect either `int` or `float` numbers and has an optional example as guide."
   ]
  },
  {
   "cell_type": "code",
   "execution_count": 4,
   "metadata": {
    "collapsed": false
   },
   "outputs": [
    {
     "name": "stdout",
     "output_type": "stream",
     "text": [
      "[0, 1, 2, 3]\n",
      "[20, 16, 11]\n"
     ]
    }
   ],
   "source": [
    "list_cmd = [0, 1, 2]\n",
    "    \n",
    "wid = ListWidget(list_cmd, mode='int', description='List:', render_function=render_function, example_visible=True)\n",
    "wid"
   ]
  },
  {
   "cell_type": "markdown",
   "metadata": {},
   "source": [
    "Note that you need to press _Enter_ in order to pass a new value into the textbox. Also, try typing a wrong command, such as \n",
    "```python\n",
    "'10, 20,,', '10, a, None'\n",
    "```\n",
    "to see the corresponding error messages.\n",
    "\n",
    "The styling of the widget can be changed using the `style()` method."
   ]
  },
  {
   "cell_type": "code",
   "execution_count": 5,
   "metadata": {
    "collapsed": false
   },
   "outputs": [],
   "source": [
    "wid.style(box_style='danger', font_size=15)"
   ]
  },
  {
   "cell_type": "markdown",
   "metadata": {},
   "source": [
    "The state of the widget can be updated with the `set_widget_state()` method. Note that since `allow_callback=False`, nothing gets printed after running the command, even though `selected_values` is updated."
   ]
  },
  {
   "cell_type": "code",
   "execution_count": 6,
   "metadata": {
    "collapsed": true
   },
   "outputs": [],
   "source": [
    "wid.set_widget_state([20, 16], allow_callback=False)"
   ]
  },
  {
   "cell_type": "markdown",
   "metadata": {},
   "source": [
    "Similar to the `list` widget, _MenpoWidgets_ has a widget for defining a command for slicing a `list` (or `numpy.array`). Commands can have any vald Python syntax, such as\n",
    "```python\n",
    "':3:', '::2', '1:2:10', '-1::', '0, 3, 7', 'range(5)'\n",
    "```\n",
    "The widget gets as argument a `dict` with the initial slicing command as well as the length of the `list`."
   ]
  },
  {
   "cell_type": "code",
   "execution_count": 7,
   "metadata": {
    "collapsed": false
   },
   "outputs": [
    {
     "name": "stdout",
     "output_type": "stream",
     "text": [
      "[0, 1, 2, 3, 4, 5, 6]\n"
     ]
    }
   ],
   "source": [
    "# Initial options\n",
    "slice_cmd = {'command': ':3', \n",
    "             'length': 10}\n",
    "\n",
    "# Create widget\n",
    "wid = SlicingCommandWidget(slice_cmd, description='Command:', render_function=render_function, \n",
    "                           example_visible=True, orientation='horizontal')\n",
    "\n",
    "# Display widget\n",
    "wid"
   ]
  },
  {
   "cell_type": "markdown",
   "metadata": {},
   "source": [
    "Note that by defining a single `int` number, then an `ipywidget.IntSlider` appears that allows to select the index. Similarly, by inserting any slicing command with a constant step, then an `ipywidgets.IntRangeSlider` appears. The sliders are disabled when inserting a slicing command with non-constant step. The placement of the sliders with respect to the textbox is controlled by the `orientation` argument.\n",
    "\n",
    "Additionally, similar to the `ListWidget`, the widget is smart enough to detect any syntactic errors and print a relevant message.\n",
    "\n",
    "The styling of the widget can be changed as"
   ]
  },
  {
   "cell_type": "code",
   "execution_count": 8,
   "metadata": {
    "collapsed": true
   },
   "outputs": [],
   "source": [
    "wid.style(border_visible=True, border_style='dashed', font_weight='bold')"
   ]
  },
  {
   "cell_type": "markdown",
   "metadata": {},
   "source": [
    "To update the widget's state, you need to pass in a new `dict` of options, as"
   ]
  },
  {
   "cell_type": "code",
   "execution_count": 9,
   "metadata": {
    "collapsed": false
   },
   "outputs": [
    {
     "name": "stdout",
     "output_type": "stream",
     "text": [
      "[0, 1, 2, 3, 4, 5, 6, 7, 8, 9, 10, 11, 12, 13, 14, 15, 16, 17, 18, 19, 20, 21, 22, 23, 24, 25, 26, 27, 28, 29, 30, 31, 32, 33, 34, 35, 36, 37, 38, 39]\n"
     ]
    }
   ],
   "source": [
    "wid.set_widget_state({'command': ':40', 'length': 40}, allow_callback=True)"
   ]
  },
  {
   "cell_type": "markdown",
   "metadata": {},
   "source": [
    "## <a name=\"sec:colour\"></a>4. Colour Selection"
   ]
  },
  {
   "cell_type": "markdown",
   "metadata": {},
   "source": [
    "_MenpoWidgets_ is using the standard Java colour picker defined in `ipywidgets.ColorPicker`. However, `ColourSelectionWidget` has the additional functionality to select colours for a set of objects. Thus the widget constructor gets a `list` of colours (either the colour name `str` or the RGB values), as well as the `labels` `list` that has the names of the objects."
   ]
  },
  {
   "cell_type": "code",
   "execution_count": 10,
   "metadata": {
    "collapsed": false
   },
   "outputs": [
    {
     "name": "stdout",
     "output_type": "stream",
     "text": [
      "[[255, 38, 31], 'blue', 'black']\n"
     ]
    }
   ],
   "source": [
    "wid = ColourSelectionWidget([[255, 38, 31], 'blue', 'green'], labels=['a', 'b', 'c'], \n",
    "                            render_function=render_function)\n",
    "\n",
    "# Set styling\n",
    "wid.style(box_style='warning', apply_to_all_style='info', label_colour='black', \n",
    "          label_background_colour=map_styles_to_hex_colours('info', background=True), font_weight='bold')\n",
    "\n",
    "# Display widget\n",
    "wid"
   ]
  },
  {
   "cell_type": "markdown",
   "metadata": {},
   "source": [
    "The _Apply to all_ button sets the currently selected colour to all the labels.\n",
    "\n",
    "The colours can also be updated with the `set_colours()` function as "
   ]
  },
  {
   "cell_type": "code",
   "execution_count": 11,
   "metadata": {
    "collapsed": false
   },
   "outputs": [
    {
     "name": "stdout",
     "output_type": "stream",
     "text": [
      "['red', 'orange', 'pink']\n"
     ]
    }
   ],
   "source": [
    "wid.set_colours(['red', 'orange', 'pink'], allow_callback=True)"
   ]
  },
  {
   "cell_type": "markdown",
   "metadata": {},
   "source": [
    "In case there is only one label, defined either with a `list` of length ``1`` or by setting `labels=None`, then the drop-down menu to select object does not appear. For example, let's update the state of the widget:"
   ]
  },
  {
   "cell_type": "code",
   "execution_count": 12,
   "metadata": {
    "collapsed": false
   },
   "outputs": [
    {
     "name": "stdout",
     "output_type": "stream",
     "text": [
      "['red']\n"
     ]
    }
   ],
   "source": [
    "wid.set_widget_state(['red'], None)"
   ]
  },
  {
   "cell_type": "markdown",
   "metadata": {},
   "source": [
    "## <a name=\"sec:index\"></a>5. Index Selection"
   ]
  },
  {
   "cell_type": "markdown",
   "metadata": {},
   "source": [
    "The following two widgets give the ability to select a single integer number from a specified range. Thus, they can be seen as index selectors. The user must pass in a `dict` that defines the minimum, maximum and step of the allowed range, as well as the initially selected index. Then the `selected_values` _trait_ always keeps track of the selected index, thus it has `int` type.\n",
    "\n",
    "An index selection widget, where the selector is an `ipywidgets.IntSlider` can be created as "
   ]
  },
  {
   "cell_type": "code",
   "execution_count": 13,
   "metadata": {
    "collapsed": false
   },
   "outputs": [
    {
     "name": "stdout",
     "output_type": "stream",
     "text": [
      "43\n",
      "17\n"
     ]
    }
   ],
   "source": [
    "# Initial options\n",
    "index = {'min': 0, \n",
    "         'max': 100, \n",
    "         'step': 1, \n",
    "         'index': 10}\n",
    "\n",
    "# Crete widget\n",
    "wid = IndexSliderWidget(index, description='Index: ', render_function=render_function, continuous_update=False)\n",
    "\n",
    "# Set styling\n",
    "wid.style(box_style='danger', slider_handle_colour=map_styles_to_hex_colours('danger'), \n",
    "          slider_bar_colour=map_styles_to_hex_colours('danger'))\n",
    "\n",
    "# Display widget\n",
    "wid"
   ]
  },
  {
   "cell_type": "markdown",
   "metadata": {},
   "source": [
    "As with all widgets, the state can be updated as:"
   ]
  },
  {
   "cell_type": "code",
   "execution_count": 14,
   "metadata": {
    "collapsed": false
   },
   "outputs": [
    {
     "name": "stdout",
     "output_type": "stream",
     "text": [
      "50\n"
     ]
    }
   ],
   "source": [
    "wid.set_widget_state({'min': 10, 'max': 500, 'step': 2, 'index': 50}, allow_callback=True)"
   ]
  },
  {
   "cell_type": "markdown",
   "metadata": {},
   "source": [
    "An index selection widget where the selection can be performed with -/+ (previous/next) buttons can be created as:"
   ]
  },
  {
   "cell_type": "code",
   "execution_count": 15,
   "metadata": {
    "collapsed": false
   },
   "outputs": [
    {
     "name": "stdout",
     "output_type": "stream",
     "text": [
      "11\n",
      "12\n",
      "13\n",
      "14\n",
      "15\n"
     ]
    }
   ],
   "source": [
    "index = {'min': 0, 'max': 100, 'step': 1, 'index': 10}\n",
    "\n",
    "wid = IndexButtonsWidget(index, render_function=render_function, loop_enabled=False, text_editable=True)\n",
    "wid"
   ]
  },
  {
   "cell_type": "markdown",
   "metadata": {},
   "source": [
    "Note that since `text_editable` is ``True``, you can actually edit the index directly from the textbox. Additionally, by setting `loop_enabled=True` means that by pressing '+' when the textbox is at the last index, it takes you to the minimum index.\n",
    "\n",
    "Let's update the styling of the widget:"
   ]
  },
  {
   "cell_type": "code",
   "execution_count": 16,
   "metadata": {
    "collapsed": false
   },
   "outputs": [],
   "source": [
    "wid.style(box_style='danger', plus_style='success', minus_style='danger', text_colour='blue', \n",
    "          text_background_colour=map_styles_to_hex_colours('info', background=True))"
   ]
  },
  {
   "cell_type": "markdown",
   "metadata": {},
   "source": [
    "Let's also update its state with a new set of options:"
   ]
  },
  {
   "cell_type": "code",
   "execution_count": 17,
   "metadata": {
    "collapsed": false
   },
   "outputs": [
    {
     "name": "stdout",
     "output_type": "stream",
     "text": [
      "50\n"
     ]
    }
   ],
   "source": [
    "wid.set_widget_state({'min': 20, 'max': 500, 'step': 2, 'index': 50}, loop_enabled=True, text_editable=True, \n",
    "                     allow_callback=True)"
   ]
  },
  {
   "cell_type": "markdown",
   "metadata": {},
   "source": [
    "## <a name=\"sec:zoom\"></a>6. Zoom"
   ]
  },
  {
   "cell_type": "markdown",
   "metadata": {},
   "source": [
    "There are two widgets for zooming into a figure. Both are using `ipywidgets.FloatSLider` and get as input a `dict` with the minimum and maximum values, the step of the slider(s) and the initial zoom value.\n",
    "\n",
    "The first one defines a single zoom `float`, as"
   ]
  },
  {
   "cell_type": "code",
   "execution_count": 18,
   "metadata": {
    "collapsed": false
   },
   "outputs": [
    {
     "name": "stdout",
     "output_type": "stream",
     "text": [
      "1.75\n",
      "2.95\n"
     ]
    }
   ],
   "source": [
    "# Initial options\n",
    "zoom_options = {'min': 0.1, \n",
    "                'max': 4., \n",
    "                'step': 0.05, \n",
    "                'zoom': 1.}\n",
    "\n",
    "# Create widget\n",
    "wid = ZoomOneScaleWidget(zoom_options, render_function=render_function)\n",
    "\n",
    "# Set styling\n",
    "wid.style(box_style='danger')\n",
    "wid.zoom_slider.background_color = map_styles_to_hex_colours('info')\n",
    "wid.zoom_slider.slider_color = map_styles_to_hex_colours('danger')\n",
    "\n",
    "# Display widget\n",
    "wid"
   ]
  },
  {
   "cell_type": "markdown",
   "metadata": {},
   "source": [
    "and its state can be updated as:"
   ]
  },
  {
   "cell_type": "code",
   "execution_count": 19,
   "metadata": {
    "collapsed": false
   },
   "outputs": [
    {
     "name": "stdout",
     "output_type": "stream",
     "text": [
      "0.5\n"
     ]
    }
   ],
   "source": [
    "wid.set_widget_state({'zoom': 0.5, 'min': 0., 'max': 4., 'step': 0.2}, allow_callback=True)"
   ]
  },
  {
   "cell_type": "markdown",
   "metadata": {},
   "source": [
    "The second one defines two zoom values that are intended to control the height and width of a figure."
   ]
  },
  {
   "cell_type": "code",
   "execution_count": 20,
   "metadata": {
    "collapsed": false
   },
   "outputs": [
    {
     "name": "stdout",
     "output_type": "stream",
     "text": [
      "[2.9, 1.0]\n",
      "[2.9, 0.5]\n",
      "[5.3, 3.0]\n"
     ]
    }
   ],
   "source": [
    "# Initial options\n",
    "zoom_options = {'min': 0.1, \n",
    "                'max': 4., \n",
    "                'step': 0.1, \n",
    "                'zoom': [1., 1.], \n",
    "                'lock_aspect_ratio': False}\n",
    "\n",
    "# Create widget\n",
    "wid = ZoomTwoScalesWidget(zoom_options, render_function=render_function, continuous_update=True)\n",
    "\n",
    "# Set styling\n",
    "wid.style(box_style='danger')\n",
    "\n",
    "# Display widget\n",
    "wid"
   ]
  },
  {
   "cell_type": "markdown",
   "metadata": {},
   "source": [
    "Note that the sliders can be linkedd in order to preserve the aspect ratio of the figure. The state can be updated as:"
   ]
  },
  {
   "cell_type": "code",
   "execution_count": 21,
   "metadata": {
    "collapsed": false
   },
   "outputs": [
    {
     "name": "stdout",
     "output_type": "stream",
     "text": [
      "[2.0, 3.0]\n"
     ]
    }
   ],
   "source": [
    "zoom_options = {'min': 0.5, 'max': 10., 'step': 0.3, 'zoom': [2., 3.]}\n",
    "wid.set_widget_state(zoom_options, allow_callback=True)"
   ]
  },
  {
   "cell_type": "markdown",
   "metadata": {},
   "source": [
    "## <a name=\"sec:image\"></a>7. Image Options"
   ]
  },
  {
   "cell_type": "markdown",
   "metadata": {},
   "source": [
    "This is a widget for selecting options related to rendering an image. It defines the colourmap, the alpha value for transparency as well as the interpolation. Specifically:"
   ]
  },
  {
   "cell_type": "code",
   "execution_count": 22,
   "metadata": {
    "collapsed": false
   },
   "outputs": [
    {
     "name": "stdout",
     "output_type": "stream",
     "text": [
      "{'interpolation': 'bilinear', 'alpha': 0.35, 'cmap_name': None}\n",
      "{'interpolation': 'none', 'alpha': 0.35, 'cmap_name': None}\n"
     ]
    }
   ],
   "source": [
    "# Initial options\n",
    "image_options = {'alpha': 1., \n",
    "                 'interpolation': 'bilinear', \n",
    "                 'cmap_name': None}\n",
    "\n",
    "# Create widget\n",
    "wid = ImageOptionsWidget(image_options, render_function=render_function)\n",
    "\n",
    "# Set styling\n",
    "wid.style(box_style='success', padding=10, border_visible=True, border_radius=45)\n",
    "\n",
    "# Display widget\n",
    "wid"
   ]
  },
  {
   "cell_type": "markdown",
   "metadata": {},
   "source": [
    "The widget can be updated with a new `dict` of options as:"
   ]
  },
  {
   "cell_type": "code",
   "execution_count": 23,
   "metadata": {
    "collapsed": false
   },
   "outputs": [
    {
     "name": "stdout",
     "output_type": "stream",
     "text": [
      "{'interpolation': 'none', 'alpha': 0.8, 'cmap_name': None}\n"
     ]
    }
   ],
   "source": [
    "wid.set_widget_state({'alpha': 0.8, 'interpolation': 'none', 'cmap_name': 'gray'}, allow_callback=True)"
   ]
  },
  {
   "cell_type": "markdown",
   "metadata": {},
   "source": [
    "## <a name=\"sec:line\"></a>8. Line Options"
   ]
  },
  {
   "cell_type": "markdown",
   "metadata": {},
   "source": [
    "The following widget allows the selection of options for rendering line objects. The initial options are passed in as a `dict` and control the width, style and colour of the lines. Note that a different colour can be defined for different objects using the `labels` argument."
   ]
  },
  {
   "cell_type": "code",
   "execution_count": 24,
   "metadata": {
    "collapsed": false
   },
   "outputs": [
    {
     "name": "stdout",
     "output_type": "stream",
     "text": [
      "{'render_lines': True, 'line_style': '-', 'line_colour': ['orange', 'red'], 'line_width': 1.0}\n",
      "{'render_lines': True, 'line_style': '-', 'line_colour': ['orange', 'red'], 'line_width': 10.0}\n",
      "{'render_lines': True, 'line_style': '--', 'line_colour': ['orange', 'red'], 'line_width': 10.0}\n"
     ]
    }
   ],
   "source": [
    "# Initial options\n",
    "line_options = {'render_lines': True, \n",
    "                'line_width': 1, \n",
    "                'line_colour': ['blue', 'red'], \n",
    "                'line_style': '-'}\n",
    "\n",
    "# Create widget\n",
    "wid = LineOptionsWidget(line_options, render_function=render_function, \n",
    "                        labels=['menpo', 'widgets'])\n",
    "\n",
    "# Set styling\n",
    "wid.style(box_style='danger', padding=6)\n",
    "\n",
    "# Display widget\n",
    "wid"
   ]
  },
  {
   "cell_type": "markdown",
   "metadata": {},
   "source": [
    "The _Render lines_ tick box also controls the visibility of the rest of the options. So by updating the state with `render_lines=False`, the options disappear."
   ]
  },
  {
   "cell_type": "code",
   "execution_count": 25,
   "metadata": {
    "collapsed": false
   },
   "outputs": [
    {
     "name": "stdout",
     "output_type": "stream",
     "text": [
      "{'render_lines': False, 'line_style': '--', 'line_colour': ['purple'], 'line_width': 5.0}\n"
     ]
    }
   ],
   "source": [
    "wid.set_widget_state({'render_lines': False, 'line_width': 5, 'line_colour': ['purple'], 'line_style': '--'}, \n",
    "                     allow_callback=True, labels=None)"
   ]
  },
  {
   "cell_type": "markdown",
   "metadata": {},
   "source": [
    "## <a name=\"sec:marker\"></a>9. Marker Options"
   ]
  },
  {
   "cell_type": "markdown",
   "metadata": {},
   "source": [
    "Similar to the `LineOptionsWidget`, this widget allows to selecting options for rendering markers. The options define the edge width, face colour, edge colour, style and size of the markers."
   ]
  },
  {
   "cell_type": "code",
   "execution_count": 26,
   "metadata": {
    "collapsed": false
   },
   "outputs": [
    {
     "name": "stdout",
     "output_type": "stream",
     "text": [
      "{'marker_edge_colour': ['black', 'blue'], 'marker_size': 200, 'render_markers': True, 'marker_style': 'o', 'marker_face_colour': ['red', 'green'], 'marker_edge_width': 1.0}\n",
      "{'marker_edge_colour': ['black', 'blue'], 'marker_size': 200, 'render_markers': True, 'marker_style': '>', 'marker_face_colour': ['red', 'green'], 'marker_edge_width': 1.0}\n",
      "{'marker_edge_colour': ['black', 'blue'], 'marker_size': 200, 'render_markers': True, 'marker_style': 'p', 'marker_face_colour': ['red', 'green'], 'marker_edge_width': 1.0}\n"
     ]
    }
   ],
   "source": [
    "# Initial options\n",
    "marker_options = {'render_markers': True, \n",
    "                  'marker_size': 20, \n",
    "                  'marker_face_colour': ['red', 'green'], \n",
    "                  'marker_edge_colour': ['black', 'blue'], \n",
    "                  'marker_style': 'o', \n",
    "                  'marker_edge_width': 1}\n",
    "\n",
    "# Create widget\n",
    "wid = MarkerOptionsWidget(marker_options, render_function=render_function, \n",
    "                          labels=['a', 'b'])\n",
    "\n",
    "# Set styling\n",
    "wid.style(box_style='info', padding=6)\n",
    "\n",
    "# Display widget\n",
    "wid"
   ]
  },
  {
   "cell_type": "code",
   "execution_count": 27,
   "metadata": {
    "collapsed": false
   },
   "outputs": [
    {
     "name": "stdout",
     "output_type": "stream",
     "text": [
      "{'marker_edge_colour': ['black'], 'marker_size': 20, 'render_markers': True, 'marker_style': 'o', 'marker_face_colour': ['red'], 'marker_edge_width': 1.0}\n"
     ]
    }
   ],
   "source": [
    "wid.set_widget_state({'render_markers': True, 'marker_size': 20, 'marker_face_colour': ['red'], \n",
    "                     'marker_edge_colour': ['black'], 'marker_style': 'o', 'marker_edge_width': 1}, \n",
    "                     labels=None, allow_callback=True)"
   ]
  },
  {
   "cell_type": "markdown",
   "metadata": {},
   "source": [
    "## <a name=\"sec:numbering\"></a>10. Numbering Options"
   ]
  },
  {
   "cell_type": "markdown",
   "metadata": {},
   "source": [
    "The `NumberingOptionsWidget` is used in case you want to render some numbers next to the plotted points. "
   ]
  },
  {
   "cell_type": "code",
   "execution_count": 28,
   "metadata": {
    "collapsed": false
   },
   "outputs": [
    {
     "name": "stdout",
     "output_type": "stream",
     "text": [
      "{'numbers_font_size': 10, 'render_numbering': False, 'numbers_font_weight': 'normal', 'numbers_horizontal_align': 'center', 'numbers_font_colour': 'black', 'numbers_vertical_align': 'bottom', 'numbers_font_name': 'serif', 'numbers_font_style': 'normal'}\n",
      "{'numbers_font_size': 10, 'render_numbering': True, 'numbers_font_weight': 'normal', 'numbers_horizontal_align': 'center', 'numbers_font_colour': 'black', 'numbers_vertical_align': 'bottom', 'numbers_font_name': 'serif', 'numbers_font_style': 'normal'}\n"
     ]
    }
   ],
   "source": [
    "# Initial options\n",
    "numbers_options = {'render_numbering': True, \n",
    "                   'numbers_font_name': 'serif', \n",
    "                   'numbers_font_size': 10, \n",
    "                   'numbers_font_style': 'normal', \n",
    "                   'numbers_font_weight': 'normal', \n",
    "                   'numbers_font_colour': ['black'], \n",
    "                   'numbers_horizontal_align': 'center', \n",
    "                   'numbers_vertical_align': 'bottom'}\n",
    "\n",
    "# Create widget\n",
    "wid = NumberingOptionsWidget(numbers_options, render_function=render_function)\n",
    "\n",
    "# Set styling\n",
    "wid.style(box_style='success', border_visible=True, border_colour='black', border_style='solid', border_width=1, \n",
    "          border_radius=0, padding=10, margin=10)\n",
    "\n",
    "# Display widget\n",
    "wid"
   ]
  },
  {
   "cell_type": "markdown",
   "metadata": {},
   "source": [
    "Of course the state of the widget can be updated as:"
   ]
  },
  {
   "cell_type": "code",
   "execution_count": 29,
   "metadata": {
    "collapsed": false
   },
   "outputs": [
    {
     "name": "stdout",
     "output_type": "stream",
     "text": [
      "{'numbers_font_size': 10, 'render_numbering': True, 'numbers_font_weight': 'normal', 'numbers_horizontal_align': 'center', 'numbers_font_colour': 'green', 'numbers_vertical_align': 'bottom', 'numbers_font_name': 'serif', 'numbers_font_style': 'normal'}\n"
     ]
    }
   ],
   "source": [
    "wid.set_widget_state({'render_numbering': True, 'numbers_font_name': 'serif', 'numbers_font_size': 10, \n",
    "                      'numbers_font_style': 'normal', 'numbers_font_weight': 'normal', \n",
    "                      'numbers_font_colour': ['green'], 'numbers_horizontal_align': 'center', \n",
    "                      'numbers_vertical_align': 'bottom'}, allow_callback=True)"
   ]
  },
  {
   "cell_type": "markdown",
   "metadata": {},
   "source": [
    "## <a name=\"sec:axes\"></a>11. Axes Options"
   ]
  },
  {
   "cell_type": "markdown",
   "metadata": {},
   "source": [
    "Before presenting the `AxesOptionsWidget`, let's first see two widgets that are ued as its basic components for selecting the axes limits as well as the axes ticks.\n",
    "\n",
    "`AxesLimitsWidget` has 3 basic functions per axis:\n",
    "* `auto`: Allows `matplotlib` to automatically set the limits.\n",
    "* `percentage`: It expects a `float` that defines the percentage of padding to allow around the rendered object's region.\n",
    "* `range`: It expects two numbers that define the minimum and maximum values of the limits."
   ]
  },
  {
   "cell_type": "code",
   "execution_count": 30,
   "metadata": {
    "collapsed": false
   },
   "outputs": [
    {
     "name": "stdout",
     "output_type": "stream",
     "text": [
      "{'y': 0.1, 'x': 0.0}\n",
      "{'y': [0.0, 100.0], 'x': 0.0}\n",
      "{'y': [0.0, 100.0], 'x': None}\n"
     ]
    }
   ],
   "source": [
    "# Create widget\n",
    "wid = AxesLimitsWidget(axes_x_limits=[0, 10], axes_y_limits=0.1, render_function=render_function)\n",
    "\n",
    "# Set styling\n",
    "wid.style(box_style='danger')\n",
    "\n",
    "# Display widget\n",
    "wid"
   ]
  },
  {
   "cell_type": "markdown",
   "metadata": {},
   "source": [
    "Note that the `percentage` mode is accompanied by a [`ListWidget`](#sec:list) that expects a single `float`, whereas the `range` mode invokes a [`ListWidget`](#sec:list) that expects two `float` numbers. The state of the widget can be changed as:"
   ]
  },
  {
   "cell_type": "code",
   "execution_count": 31,
   "metadata": {
    "collapsed": false
   },
   "outputs": [
    {
     "name": "stdout",
     "output_type": "stream",
     "text": [
      "{'y': None, 'x': [-200, 200]}\n"
     ]
    }
   ],
   "source": [
    "wid.set_widget_state([-200, 200], None, allow_callback=True)"
   ]
  },
  {
   "cell_type": "markdown",
   "metadata": {},
   "source": [
    "On the other hand, `AxesTicksWidget` has two functionalities per axis:\n",
    "* `auto`: Allows `matplotlib` to automatically set the ticks.\n",
    "* `list`: Enables a [`ListWidget`](#sec:list) to select the ticks."
   ]
  },
  {
   "cell_type": "code",
   "execution_count": 32,
   "metadata": {
    "collapsed": false
   },
   "outputs": [
    {
     "name": "stdout",
     "output_type": "stream",
     "text": [
      "{'y': [10.0, 20.0, 30.0], 'x': None}\n",
      "{'y': [], 'x': None}\n"
     ]
    }
   ],
   "source": [
    "# Initial options\n",
    "axes_ticks = {'x': [], \n",
    "              'y': [10., 20., 30.]}\n",
    "\n",
    "# Create widget\n",
    "wid = AxesTicksWidget(axes_ticks, render_function=render_function)\n",
    "\n",
    "# St styling\n",
    "wid.style(box_style='danger')\n",
    "\n",
    "# Display widget\n",
    "wid"
   ]
  },
  {
   "cell_type": "markdown",
   "metadata": {},
   "source": [
    "The state can be updated as:"
   ]
  },
  {
   "cell_type": "code",
   "execution_count": 33,
   "metadata": {
    "collapsed": false
   },
   "outputs": [
    {
     "name": "stdout",
     "output_type": "stream",
     "text": [
      "{'y': None, 'x': [0, 1, 2, 3, 4]}\n"
     ]
    }
   ],
   "source": [
    "wid.set_widget_state({'x': list(range(5)), 'y': None}, allow_callback=True)"
   ]
  },
  {
   "cell_type": "markdown",
   "metadata": {},
   "source": [
    "The `AxesOptionsWidget` involves the `AxesLimitsWidget` and `AxesTicksWidget` widgets and also allows the selection of font-related options. As always, the initial options are provided in a `dict`:"
   ]
  },
  {
   "cell_type": "code",
   "execution_count": 34,
   "metadata": {
    "collapsed": false
   },
   "outputs": [
    {
     "name": "stdout",
     "output_type": "stream",
     "text": [
      "{'axes_font_name': 'serif', 'axes_font_size': 100, 'axes_font_weight': 'normal', 'axes_y_limits': None, 'axes_x_limits': None, 'render_axes': True, 'axes_font_style': 'normal', 'axes_y_ticks': None, 'axes_x_ticks': [0, 100]}\n",
      "{'axes_font_name': 'serif', 'axes_font_size': 100, 'axes_font_weight': 'normal', 'axes_y_limits': None, 'axes_x_limits': None, 'render_axes': False, 'axes_font_style': 'normal', 'axes_y_ticks': None, 'axes_x_ticks': [0, 100]}\n"
     ]
    }
   ],
   "source": [
    "# Initial options\n",
    "axes_options = {'render_axes': True, \n",
    "                'axes_font_name': 'serif', \n",
    "                'axes_font_size': 10, \n",
    "                'axes_font_style': 'normal', \n",
    "                'axes_font_weight': 'normal', \n",
    "                'axes_x_limits': None, \n",
    "                'axes_y_limits': None, \n",
    "                'axes_x_ticks': [0, 100], \n",
    "                'axes_y_ticks': None}\n",
    "\n",
    "# Create widget\n",
    "wid = AxesOptionsWidget(axes_options, render_function=render_function)\n",
    "\n",
    "# Set styling\n",
    "wid.style(box_style='warning', padding=6, border_visible=True, border_colour=map_styles_to_hex_colours('warning'))\n",
    "\n",
    "# Display widget\n",
    "wid"
   ]
  },
  {
   "cell_type": "markdown",
   "metadata": {},
   "source": [
    "The state of the widget can be updated as:"
   ]
  },
  {
   "cell_type": "code",
   "execution_count": 35,
   "metadata": {
    "collapsed": false
   },
   "outputs": [
    {
     "name": "stdout",
     "output_type": "stream",
     "text": [
      "{'axes_font_name': 'serif', 'axes_font_size': 10, 'axes_font_weight': 'normal', 'axes_y_limits': 0.1, 'axes_x_limits': [0.0, 0.05], 'render_axes': True, 'axes_font_style': 'normal', 'axes_y_ticks': None, 'axes_x_ticks': [0, 100]}\n"
     ]
    }
   ],
   "source": [
    "axes_options = {'render_axes': True, 'axes_font_name': 'serif', \n",
    "                'axes_font_size': 10, 'axes_font_style': 'normal', 'axes_font_weight': 'normal', \n",
    "                'axes_x_limits': [0., 0.05], 'axes_y_limits': 0.1, 'axes_x_ticks': [0, 100], 'axes_y_ticks': None}\n",
    "wid.set_widget_state(axes_options, allow_callback=True)"
   ]
  },
  {
   "cell_type": "markdown",
   "metadata": {},
   "source": [
    "## <a name=\"sec:legend\"></a>12. Legend Options"
   ]
  },
  {
   "cell_type": "markdown",
   "metadata": {},
   "source": [
    "`LegendOptionsWidget` allows to control the (many) options of renderinf the legend of a figure."
   ]
  },
  {
   "cell_type": "code",
   "execution_count": 36,
   "metadata": {
    "collapsed": false
   },
   "outputs": [],
   "source": [
    "# Initial options\n",
    "legend_options = {'render_legend': True,\n",
    "                  'legend_title': '',\n",
    "                  'legend_font_name': 'serif',\n",
    "                  'legend_font_style': 'normal',\n",
    "                  'legend_font_size': 10,\n",
    "                  'legend_font_weight': 'normal',\n",
    "                  'legend_marker_scale': 1.,\n",
    "                  'legend_location': 2,\n",
    "                  'legend_bbox_to_anchor': (1.05, 1.),\n",
    "                  'legend_border_axes_pad': 1.,\n",
    "                  'legend_n_columns': 1,\n",
    "                  'legend_horizontal_spacing': 1.,\n",
    "                  'legend_vertical_spacing': 1.,\n",
    "                  'legend_border': True,\n",
    "                  'legend_border_padding': 0.5,\n",
    "                  'legend_shadow': False,\n",
    "                  'legend_rounded_corners': True}\n",
    "\n",
    "# Create widget\n",
    "wid = LegendOptionsWidget(legend_options, render_function=render_function)\n",
    "\n",
    "# Set styling\n",
    "wid.style(border_visible=True, font_size=15)\n",
    "\n",
    "# Display widget\n",
    "wid"
   ]
  },
  {
   "cell_type": "code",
   "execution_count": 37,
   "metadata": {
    "collapsed": false
   },
   "outputs": [
    {
     "name": "stdout",
     "output_type": "stream",
     "text": [
      "{'legend_font_size': 60, 'legend_font_weight': 'normal', 'legend_font_style': 'normal', 'legend_vertical_spacing': 7.0, 'legend_font_name': 'sans-serif', 'legend_marker_scale': 2.0, 'legend_shadow': True, 'legend_border': False, 'legend_border_axes_pad': 1.0, 'legend_title': 'asd', 'render_legend': True, 'legend_bbox_to_anchor': (1.05, 1.0), 'legend_horizontal_spacing': 3.0, 'legend_location': 7, 'legend_n_columns': 2, 'legend_rounded_corners': True, 'legend_border_padding': 0.5}\n"
     ]
    }
   ],
   "source": [
    "legend_options = {'render_legend': True, 'legend_title': 'asd', 'legend_font_name': 'sans-serif', \n",
    "                  'legend_font_style': 'normal', 'legend_font_size': 60, 'legend_font_weight': 'normal',\n",
    "                  'legend_marker_scale': 2., 'legend_location': 7, 'legend_bbox_to_anchor': (1.05, 1.),\n",
    "                  'legend_border_axes_pad': 1., 'legend_n_columns': 2, 'legend_horizontal_spacing': 3.,\n",
    "                  'legend_vertical_spacing': 7., 'legend_border': False,\n",
    "                  'legend_border_padding': 0.5, 'legend_shadow': True, 'legend_rounded_corners': True}\n",
    "wid.set_widget_state(legend_options, allow_callback=True)"
   ]
  },
  {
   "cell_type": "markdown",
   "metadata": {},
   "source": [
    "## <a name=\"sec:grid\"></a>13. Grid Options"
   ]
  },
  {
   "cell_type": "markdown",
   "metadata": {},
   "source": [
    "The following simple widget controls the rendering of the grid lines of a plot, their style and width."
   ]
  },
  {
   "cell_type": "code",
   "execution_count": 38,
   "metadata": {
    "collapsed": false
   },
   "outputs": [
    {
     "name": "stdout",
     "output_type": "stream",
     "text": [
      "{'grid_line_width': 1.0, 'render_grid': True, 'grid_line_style': '-.'}\n",
      "{'grid_line_width': 10.0, 'render_grid': True, 'grid_line_style': '-.'}\n"
     ]
    }
   ],
   "source": [
    "# Initial options\n",
    "grid_options = {'render_grid': True, \n",
    "                'grid_line_width': 1, \n",
    "                'grid_line_style': '-'}\n",
    "\n",
    "# Create widget\n",
    "wid = GridOptionsWidget(grid_options, render_function=render_function)\n",
    "\n",
    "# Set styling\n",
    "wid.style(box_style='warning')\n",
    "\n",
    "# Display widget\n",
    "wid"
   ]
  },
  {
   "cell_type": "code",
   "execution_count": 39,
   "metadata": {
    "collapsed": false
   },
   "outputs": [
    {
     "name": "stdout",
     "output_type": "stream",
     "text": [
      "{'grid_line_width': 10.0, 'render_grid': True, 'grid_line_style': ':'}\n"
     ]
    }
   ],
   "source": [
    "wid.set_widget_state({'render_grid': True, 'grid_line_width': 10, 'grid_line_style': ':'})"
   ]
  },
  {
   "cell_type": "markdown",
   "metadata": {},
   "source": [
    "## <a name=\"sec:features\"></a>14. HOG, DSIFT, Daisy, LBP, IGO Options"
   ]
  },
  {
   "cell_type": "markdown",
   "metadata": {},
   "source": [
    "The following widgets allow to select options regarding HOG, DSIFT, Daisy, LBP and IGO features."
   ]
  },
  {
   "cell_type": "code",
   "execution_count": 40,
   "metadata": {
    "collapsed": false
   },
   "outputs": [
    {
     "name": "stdout",
     "output_type": "stream",
     "text": [
      "{'mode': 'dense', 'window_unit': 'blocks', 'l2_norm_clip': 0.2, 'window_height': 1, 'window_width': 1, 'padding': False, 'signed_gradient': True, 'window_step_unit': 'pixels', 'num_bins': 9, 'window_step_vertical': 1, 'cell_size': 8, 'block_size': 2, 'algorithm': 'dalaltriggs', 'window_step_horizontal': 1}\n"
     ]
    }
   ],
   "source": [
    "# Initial options\n",
    "hog_options = {'mode': 'dense',\n",
    "               'algorithm': 'dalaltriggs',\n",
    "               'num_bins': 9,\n",
    "               'cell_size': 8,\n",
    "               'block_size': 2,\n",
    "               'signed_gradient': True,\n",
    "               'l2_norm_clip': 0.2,\n",
    "               'window_height': 1,\n",
    "               'window_width': 1,\n",
    "               'window_unit': 'blocks',\n",
    "               'window_step_vertical': 1,\n",
    "               'window_step_horizontal': 1,\n",
    "               'window_step_unit': 'pixels',\n",
    "               'padding': True}\n",
    "\n",
    "# Create widget\n",
    "wid = HOGOptionsWidget(hog_options, render_function=render_function)\n",
    "\n",
    "# Set styling\n",
    "wid.style('info')\n",
    "\n",
    "# Display widget\n",
    "wid"
   ]
  },
  {
   "cell_type": "code",
   "execution_count": 41,
   "metadata": {
    "collapsed": false
   },
   "outputs": [
    {
     "name": "stdout",
     "output_type": "stream",
     "text": [
      "{'cell_size_horizontal': 6, 'cell_size_vertical': 6, 'num_or_bins': 9, 'window_step_vertical': 1, 'fast': False, 'num_bins_horizontal': 2, 'window_step_horizontal': 1, 'num_bins_vertical': 2}\n"
     ]
    }
   ],
   "source": [
    "# Initial options\n",
    "dsift_options = {'window_step_horizontal': 1,\n",
    "                 'window_step_vertical': 1,\n",
    "                 'num_bins_horizontal': 2,\n",
    "                 'num_bins_vertical': 2,\n",
    "                 'num_or_bins': 9,\n",
    "                 'cell_size_horizontal': 6,\n",
    "                 'cell_size_vertical': 6,\n",
    "                 'fast': True}\n",
    "\n",
    "# Create widget\n",
    "wid = DSIFTOptionsWidget(dsift_options, render_function=render_function)\n",
    "\n",
    "# Set styling\n",
    "wid.style('success')\n",
    "\n",
    "# Display widget\n",
    "wid"
   ]
  },
  {
   "cell_type": "code",
   "execution_count": 42,
   "metadata": {
    "collapsed": false
   },
   "outputs": [
    {
     "name": "stdout",
     "output_type": "stream",
     "text": [
      "{'step': 1, 'rings': 2, 'sigmas': None, 'radius': 15, 'normalization': 'daisy', 'histograms': 2, 'orientations': 8, 'ring_radii': None}\n"
     ]
    }
   ],
   "source": [
    "# Initial options\n",
    "daisy_options = {'step': 1,\n",
    "                 'radius': 15,\n",
    "                 'rings': 2,\n",
    "                 'histograms': 2,\n",
    "                 'orientations': 8,\n",
    "                 'normalization': 'l1',\n",
    "                 'sigmas': None,\n",
    "                 'ring_radii': None}\n",
    "   \n",
    "# Create widget\n",
    "wid = DaisyOptionsWidget(daisy_options, render_function=render_function)\n",
    "\n",
    "# Set styling\n",
    "wid.style('danger')\n",
    "\n",
    "# Display widget\n",
    "wid"
   ]
  },
  {
   "cell_type": "code",
   "execution_count": 43,
   "metadata": {
    "collapsed": false
   },
   "outputs": [
    {
     "name": "stdout",
     "output_type": "stream",
     "text": [
      "{'samples': [8, 8, 8, 8], 'window_step_unit': 'pixels', 'padding': True, 'window_step_vertical': 1, 'mapping_type': 'ri', 'radius': [1, 2, 3, 4], 'window_step_horizontal': 1}\n"
     ]
    }
   ],
   "source": [
    "# Initial options\n",
    "lbp_options = {'radius': list(range(1, 5)),\n",
    "               'samples': [8] * 4,\n",
    "               'mapping_type': 'u2',\n",
    "               'window_step_vertical': 1,\n",
    "               'window_step_horizontal': 1,\n",
    "               'window_step_unit': 'pixels',\n",
    "               'padding': True}\n",
    "    \n",
    "# Create widget\n",
    "wid = LBPOptionsWidget(lbp_options, render_function=render_function)\n",
    "\n",
    "# Set styling\n",
    "wid.style(box_style='warning')\n",
    "\n",
    "# Display widget\n",
    "wid"
   ]
  },
  {
   "cell_type": "code",
   "execution_count": 44,
   "metadata": {
    "collapsed": false
   },
   "outputs": [
    {
     "name": "stdout",
     "output_type": "stream",
     "text": [
      "{'double_angles': False}\n"
     ]
    }
   ],
   "source": [
    "wid = IGOOptionsWidget({'double_angles': True}, render_function=render_function)\n",
    "wid"
   ]
  }
 ],
 "metadata": {
  "kernelspec": {
   "display_name": "Python 3",
   "language": "python",
   "name": "python3"
  },
  "language_info": {
   "codemirror_mode": {
    "name": "ipython",
    "version": 3
   },
   "file_extension": ".py",
   "mimetype": "text/x-python",
   "name": "python",
   "nbconvert_exporter": "python",
   "pygments_lexer": "ipython3",
   "version": "3.5.1"
  },
  "widgets": {
   "state": {
    "0ecc1848cef74097b7d6e1731c8319c4": {
     "views": [
      {
       "cell_index": 7
      }
     ]
    },
    "1a85884bfd0141f0b29c90fd8e8d3950": {
     "views": []
    },
    "31eb8d2334034d74966c8fd2a1b9c849": {
     "views": []
    },
    "4ff39ee78349489d9c604197fee3740a": {
     "views": []
    },
    "6d7f04ab23a1433599f2d36ef3bc8cad": {
     "views": []
    },
    "90fbb0b793794e55b44108fe7f7df894": {
     "views": []
    },
    "9272ca384f454cde9918be9d34b88475": {
     "views": []
    },
    "fb983776f6444dc1b3e570a2542a653e": {
     "views": []
    }
   },
   "version": "1.1.2"
  }
 },
 "nbformat": 4,
 "nbformat_minor": 0
}
