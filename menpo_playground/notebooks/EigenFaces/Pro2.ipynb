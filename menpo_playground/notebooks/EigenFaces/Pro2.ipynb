{
 "cells": [
  {
   "cell_type": "code",
   "execution_count": 1,
   "metadata": {
    "collapsed": false
   },
   "outputs": [
    {
     "name": "stdout",
     "output_type": "stream",
     "text": [
      "/Users/Lee/Desktop/Menpo_Playground_With_Mynotes/menpo_playground/notebooks/EigenFaces/2/\n"
     ]
    }
   ],
   "source": [
    "#This is a menpo project for the paper \"Face Recognition Using Eigenfaces\"\n",
    "%matplotlib inline\n",
    "import os\n",
    "import menpo.io as mio\n",
    "from menpowidgets import visualize_images\n",
    "import numpy as np\n",
    "\n",
    "workingspace = os.getcwd()\n",
    "\n",
    "\n",
    "\n",
    "trainingdata = workingspace + '/1/'\n",
    "testdata = workingspace + '/test/'\n",
    "landmark = workingspace + '/2/'\n",
    "\n",
    "\n",
    "print ( landmark )\n"
   ]
  },
  {
   "cell_type": "code",
   "execution_count": 2,
   "metadata": {
    "collapsed": false
   },
   "outputs": [
    {
     "ename": "ValueError",
     "evalue": "/Users/Lee/Desktop/Menpo_Playground_With_Mynotes/menpo_playground/notebooks/EigenFaces/mean.png is not a file",
     "output_type": "error",
     "traceback": [
      "\u001b[0;31m---------------------------------------------------------------------------\u001b[0m",
      "\u001b[0;31mValueError\u001b[0m                                Traceback (most recent call last)",
      "\u001b[0;32m<ipython-input-2-b6a2bc171f93>\u001b[0m in \u001b[0;36m<module>\u001b[0;34m()\u001b[0m\n\u001b[1;32m      5\u001b[0m \u001b[0;34m\u001b[0m\u001b[0m\n\u001b[1;32m      6\u001b[0m \u001b[0;34m\u001b[0m\u001b[0m\n\u001b[0;32m----> 7\u001b[0;31m \u001b[0mimg\u001b[0m \u001b[0;34m=\u001b[0m \u001b[0mmio\u001b[0m\u001b[0;34m.\u001b[0m\u001b[0mimport_image\u001b[0m\u001b[0;34m(\u001b[0m \u001b[0mworkingspace\u001b[0m \u001b[0;34m+\u001b[0m \u001b[0;34m'/mean.png'\u001b[0m \u001b[0;34m)\u001b[0m\u001b[0;34m\u001b[0m\u001b[0m\n\u001b[0m\u001b[1;32m      8\u001b[0m \u001b[0mTV\u001b[0m \u001b[0;34m=\u001b[0m \u001b[0mimg\u001b[0m\u001b[0;34m.\u001b[0m\u001b[0mas_vector\u001b[0m\u001b[0;34m(\u001b[0m\u001b[0;34m)\u001b[0m\u001b[0;34m\u001b[0m\u001b[0m\n\u001b[1;32m      9\u001b[0m \u001b[0mTV\u001b[0m \u001b[0;34m=\u001b[0m \u001b[0mTV\u001b[0m \u001b[0;34m*\u001b[0m \u001b[0;36m2000\u001b[0m \u001b[0;34m/\u001b[0m \u001b[0;36m2330.\u001b[0m\u001b[0;34m\u001b[0m\u001b[0m\n",
      "\u001b[0;32m/Users/Lee/Desktop/Menpo_Playground_With_Mynotes/menpo_playground/src/lib/python3.5/site-packages/menpo/io/input/base.py\u001b[0m in \u001b[0;36mimport_image\u001b[0;34m(filepath, landmark_resolver, normalize, normalise)\u001b[0m\n\u001b[1;32m    259\u001b[0m                    \u001b[0mlandmark_resolver\u001b[0m\u001b[0;34m=\u001b[0m\u001b[0mlandmark_resolver\u001b[0m\u001b[0;34m,\u001b[0m\u001b[0;34m\u001b[0m\u001b[0m\n\u001b[1;32m    260\u001b[0m                    \u001b[0mlandmark_attach_func\u001b[0m\u001b[0;34m=\u001b[0m\u001b[0m_import_object_attach_landmarks\u001b[0m\u001b[0;34m,\u001b[0m\u001b[0;34m\u001b[0m\u001b[0m\n\u001b[0;32m--> 261\u001b[0;31m                    importer_kwargs=kwargs)\n\u001b[0m\u001b[1;32m    262\u001b[0m \u001b[0;34m\u001b[0m\u001b[0m\n\u001b[1;32m    263\u001b[0m \u001b[0;34m\u001b[0m\u001b[0m\n",
      "\u001b[0;32m/Users/Lee/Desktop/Menpo_Playground_With_Mynotes/menpo_playground/src/lib/python3.5/site-packages/menpo/io/input/base.py\u001b[0m in \u001b[0;36m_import\u001b[0;34m(filepath, extensions_map, landmark_resolver, landmark_ext_map, landmark_attach_func, asset, importer_kwargs)\u001b[0m\n\u001b[1;32m    795\u001b[0m     \u001b[0mpath\u001b[0m \u001b[0;34m=\u001b[0m \u001b[0m_norm_path\u001b[0m\u001b[0;34m(\u001b[0m\u001b[0mfilepath\u001b[0m\u001b[0;34m)\u001b[0m\u001b[0;34m\u001b[0m\u001b[0m\n\u001b[1;32m    796\u001b[0m     \u001b[0;32mif\u001b[0m \u001b[0;32mnot\u001b[0m \u001b[0mpath\u001b[0m\u001b[0;34m.\u001b[0m\u001b[0mis_file\u001b[0m\u001b[0;34m(\u001b[0m\u001b[0;34m)\u001b[0m\u001b[0;34m:\u001b[0m\u001b[0;34m\u001b[0m\u001b[0m\n\u001b[0;32m--> 797\u001b[0;31m         \u001b[0;32mraise\u001b[0m \u001b[0mValueError\u001b[0m\u001b[0;34m(\u001b[0m\u001b[0;34m\"{} is not a file\"\u001b[0m\u001b[0;34m.\u001b[0m\u001b[0mformat\u001b[0m\u001b[0;34m(\u001b[0m\u001b[0mpath\u001b[0m\u001b[0;34m)\u001b[0m\u001b[0;34m)\u001b[0m\u001b[0;34m\u001b[0m\u001b[0m\n\u001b[0m\u001b[1;32m    798\u001b[0m \u001b[0;34m\u001b[0m\u001b[0m\n\u001b[1;32m    799\u001b[0m     \u001b[0;31m# below could raise ValueError as well...\u001b[0m\u001b[0;34m\u001b[0m\u001b[0;34m\u001b[0m\u001b[0m\n",
      "\u001b[0;31mValueError\u001b[0m: /Users/Lee/Desktop/Menpo_Playground_With_Mynotes/menpo_playground/notebooks/EigenFaces/mean.png is not a file"
     ]
    }
   ],
   "source": [
    "from menpowidgets import visualize_images as vimgs\n",
    "from menpo.transform import scale_about_centre\n",
    "import numpy as np \n",
    "from menpo.image import Image\n",
    "\n",
    "\n",
    "img = mio.import_image( workingspace + '/mean.png' )\n",
    "TV = img.as_vector()\n",
    "TV = TV * 2000 / 2330.\n",
    "                \n",
    "#meanV = TV / 10\n",
    "\n",
    "  \n",
    "        \n",
    "# meanFace = trainingset.from_vector( meanV )\n",
    "# meanFace.view()  \n",
    "img.view()\n"
   ]
  },
  {
   "cell_type": "code",
   "execution_count": null,
   "metadata": {
    "collapsed": false
   },
   "outputs": [],
   "source": [
    "# import menpo.math.decomposition as mmath\n",
    "# A = np.empty((512*512,10))\n",
    "\n",
    "# columni = 0\n",
    "# for key in dictionary:\n",
    "#     dictionary[ key ] = dictionary[ key ] - meanV\n",
    "#     A[ :, columni ] = dictionary[ key ]\n",
    "#     columni += 1\n",
    "    \n",
    "\n",
    "# C = np.dot(A.transpose(), A) / 9\n",
    "\n",
    "# #print( C )\n",
    "\n",
    "# eigVector, eigValue = mmath.eigenvalue_decomposition( C )\n",
    "\n",
    "\n",
    "# U_k = np.dot( A, eigVector )\n",
    "\n",
    "# for key in dictionary:\n",
    "#     W_k = np.dot( U_k.transpose(), dictionary[ key ] )\n",
    "#     dictionary[ key ] = W_k\n",
    "\n",
    "# result = []\n",
    "# for fname in os.listdir(testdata):\n",
    "#     if( fname.endswith( '.jpg' ) ):\n",
    "#         img = mio.import_image( testdata + fname  )\n",
    "#         if img.n_channels == 3:\n",
    "#             img = img.as_greyscale().resize([512,512])\n",
    "#         #img = img.crop_to_landmarks().resize([512,512])\n",
    "#         imgV = img.as_vector()\n",
    "#         imgV = imgV - meanV\n",
    "#         obama = np.dot( U_k.transpose(), imgV )\n",
    "#         #print( obama )\n",
    "#         for key in dictionary:\n",
    "#             dist = np.linalg.norm( obama - dictionary[ key ] )\n",
    "#             print( dist, key )\n",
    "#             if( dist < 7000):\n",
    "#                 result.append(key)\n",
    "            \n",
    "\n",
    "   \n",
    "            \n",
    "# visualize_images(result)   \n",
    "\n",
    "    \n",
    "\n",
    "\n",
    "    "
   ]
  },
  {
   "cell_type": "markdown",
   "metadata": {
    "collapsed": false
   },
   "source": [
    "\n",
    "\n",
    "        \n",
    "\n",
    "\n",
    "        \n",
    "\n",
    "\n"
   ]
  }
 ],
 "metadata": {
  "kernelspec": {
   "display_name": "Python 3",
   "language": "python",
   "name": "python3"
  },
  "language_info": {
   "codemirror_mode": {
    "name": "ipython",
    "version": 3
   },
   "file_extension": ".py",
   "mimetype": "text/x-python",
   "name": "python",
   "nbconvert_exporter": "python",
   "pygments_lexer": "ipython3",
   "version": "3.5.2"
  }
 },
 "nbformat": 4,
 "nbformat_minor": 0
}
