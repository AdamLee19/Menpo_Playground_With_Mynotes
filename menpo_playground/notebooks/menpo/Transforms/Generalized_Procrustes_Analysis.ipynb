{
 "cells": [
  {
   "cell_type": "markdown",
   "metadata": {},
   "source": [
    "# Generalized Procrustes Analysis\n",
    "Generalized Procrustes Analysis is an iterative technique for optimally rigidly aligning a set of shapes. The contents of this notebook are:\n",
    "\n",
    "1. Simple example\n",
    "2. Example with faces\n",
    "\n",
    "First, let's import everything we need."
   ]
  },
  {
   "cell_type": "code",
   "execution_count": 1,
   "metadata": {
    "collapsed": false
   },
   "outputs": [],
   "source": [
    "%matplotlib inline\n",
    "from pathlib import Path\n",
    "\n",
    "from menpo.transform import GeneralizedProcrustesAnalysis\n",
    "from menpo.shape import PointCloud\n",
    "\n",
    "import numpy as np\n",
    "import matplotlib.pyplot as plt"
   ]
  },
  {
   "cell_type": "markdown",
   "metadata": {},
   "source": [
    "## 1. Simple example"
   ]
  },
  {
   "cell_type": "markdown",
   "metadata": {},
   "source": [
    "Let's make three `PointCloud` instances"
   ]
  },
  {
   "cell_type": "code",
   "execution_count": 2,
   "metadata": {
    "collapsed": false
   },
   "outputs": [],
   "source": [
    "src_1 = PointCloud(np.array([[-1.0, -1.0],\n",
    "                             [1.0, -1.0],\n",
    "                             [1.0, 1.0],\n",
    "                             [-1.0, 1.0]]))\n",
    "\n",
    "src_2 = PointCloud(np.array([[0.0, 0.0],\n",
    "                             [1.5, 0.1],\n",
    "                             [1.5, 1.5],\n",
    "                             [0.1, 1.5]]))\n",
    "\n",
    "src_3 = PointCloud(np.array([[-2.0, 0.0],\n",
    "                             [0.0, 3.0],\n",
    "                             [2.0, 0.0],\n",
    "                             [0.0, -3.0]]))"
   ]
  },
  {
   "cell_type": "code",
   "execution_count": 3,
   "metadata": {
    "collapsed": false
   },
   "outputs": [
    {
     "data": {
      "image/png": "[encoded data removed]",
      "text/plain": [
       "<matplotlib.figure.Figure at 0x11678bc18>"
      ]
     },
     "metadata": {},
     "output_type": "display_data"
    }
   ],
   "source": [
    "viewer = src_1.view(marker_face_colour='r', marker_size=80);\n",
    "src_2.view(figure_id=viewer.figure_id, marker_face_colour='g', marker_size=80);\n",
    "src_3.view(figure_id=viewer.figure_id, marker_face_colour='b', marker_size=80);\n",
    "plt.legend(['src_1', 'src_2', 'src_3']);"
   ]
  },
  {
   "cell_type": "markdown",
   "metadata": {},
   "source": [
    "`GeneralizedProcrustesAnalysis` accepts a list of `Shape` instances upon construction. This causes it to run it's iterative alignment process."
   ]
  },
  {
   "cell_type": "code",
   "execution_count": 4,
   "metadata": {
    "collapsed": false
   },
   "outputs": [],
   "source": [
    "gpa = GeneralizedProcrustesAnalysis([src_1, src_2, src_3])"
   ]
  },
  {
   "cell_type": "markdown",
   "metadata": {},
   "source": [
    "Printing the object gives you a summary of what happened"
   ]
  },
  {
   "cell_type": "code",
   "execution_count": 5,
   "metadata": {
    "collapsed": false
   },
   "outputs": [
    {
     "name": "stdout",
     "output_type": "stream",
     "text": [
      "Converged after 35 iterations with av. error 1.297239\n"
     ]
    }
   ],
   "source": [
    "print(gpa)"
   ]
  },
  {
   "cell_type": "markdown",
   "metadata": {},
   "source": [
    "GeneralizedProcrustesAnalysis provides a property called `.transforms`, which gives one transform per source that aligns it to the target frame. The target frame is also accessable at `.target`"
   ]
  },
  {
   "cell_type": "code",
   "execution_count": 6,
   "metadata": {
    "collapsed": false
   },
   "outputs": [
    {
     "name": "stdout",
     "output_type": "stream",
     "text": [
      "There are 3 transforms\n",
      "Each transform is a <class 'menpo.transform.homogeneous.similarity.AlignmentSimilarity'>\n",
      "The target: PointCloud: n_points: 4, n_dims: 2\n"
     ]
    }
   ],
   "source": [
    "print('There are {} transforms'.format(len(gpa.transforms)))\n",
    "print('Each transform is a {}'.format(type(gpa.transforms[0])))\n",
    "print('The target: {}'.format(gpa.target))"
   ]
  },
  {
   "cell_type": "markdown",
   "metadata": {},
   "source": [
    "The optimal transform found to align `src_1` is:"
   ]
  },
  {
   "cell_type": "code",
   "execution_count": 7,
   "metadata": {
    "collapsed": false
   },
   "outputs": [
    {
     "name": "stdout",
     "output_type": "stream",
     "text": [
      "Similarity decomposing into:  \n",
      "  CCW Rotation of 90.0 degrees about [0 0 1]\n",
      "  UniformScale by 0.7765218033713611\n",
      "  CCW Rotation of 124.1 degrees about [0 0 1]\n",
      "  Translation by [ 0.25833333  0.25833333]\n",
      "[[ 0.64328493 -0.43493747  0.25833333]\n",
      " [ 0.43493747  0.64328493  0.25833333]\n",
      " [ 0.          0.          1.        ]]\n"
     ]
    }
   ],
   "source": [
    "src_1_similarity = gpa.transforms[0]\n",
    "print(src_1_similarity)"
   ]
  },
  {
   "cell_type": "markdown",
   "metadata": {},
   "source": [
    "and for `src_2` we used:"
   ]
  },
  {
   "cell_type": "code",
   "execution_count": 8,
   "metadata": {
    "collapsed": false
   },
   "outputs": [
    {
     "name": "stdout",
     "output_type": "stream",
     "text": [
      "Similarity decomposing into:  \n",
      "  CCW Rotation of 180.0 degrees about [0 0 1]\n",
      "  UniformScale by 1.069793262684277\n",
      "  CCW Rotation of 145.9 degrees about [0 0 1]\n",
      "  Translation by [ 0.03588139 -0.89288118]\n",
      "[[ 0.88623642 -0.59920166  0.03588139]\n",
      " [ 0.59920166  0.88623642 -0.89288118]\n",
      " [ 0.          0.          1.        ]]\n"
     ]
    }
   ],
   "source": [
    "src_2_similarity = gpa.transforms[1]\n",
    "print(src_2_similarity)"
   ]
  },
  {
   "cell_type": "markdown",
   "metadata": {},
   "source": [
    "`src_1_similarity` has a `source` which is the same as `src_1`:"
   ]
  },
  {
   "cell_type": "code",
   "execution_count": 9,
   "metadata": {
    "collapsed": false
   },
   "outputs": [
    {
     "name": "stdout",
     "output_type": "stream",
     "text": [
      "PointCloud: n_points: 4, n_dims: 2\n",
      "True\n"
     ]
    }
   ],
   "source": [
    "print(src_1_similarity.source)\n",
    "print(np.all(src_1 == src_1_similarity.source))"
   ]
  },
  {
   "cell_type": "markdown",
   "metadata": {},
   "source": [
    "The target of this object was set in the first iteration of the algorithm to the mean of all the sources:"
   ]
  },
  {
   "cell_type": "code",
   "execution_count": 10,
   "metadata": {
    "collapsed": false
   },
   "outputs": [
    {
     "name": "stdout",
     "output_type": "stream",
     "text": [
      "PointCloud: n_points: 4, n_dims: 2\n"
     ]
    }
   ],
   "source": [
    "print(src_1_similarity.target)"
   ]
  },
  {
   "cell_type": "markdown",
   "metadata": {},
   "source": [
    "Its simple to check how the alignment did"
   ]
  },
  {
   "cell_type": "code",
   "execution_count": 11,
   "metadata": {
    "collapsed": false
   },
   "outputs": [
    {
     "data": {
      "image/png": "[encoded data removed]",
      "text/plain": [
       "<matplotlib.figure.Figure at 0x118c04668>"
      ]
     },
     "metadata": {},
     "output_type": "display_data"
    }
   ],
   "source": [
    "colours_list = ['r' ,'g', 'b']\n",
    "for i, (t, a_c) in enumerate(zip(gpa.transforms, gpa.sources)):\n",
    "    aligned_src = t.apply(a_c)\n",
    "    aligned_src.view(marker_face_colour=colours_list[i], marker_size=10);\n",
    "plt.legend(['src_1', 'src_2', 'src_3']);"
   ]
  },
  {
   "cell_type": "markdown",
   "metadata": {},
   "source": [
    "## 2. Example with faces"
   ]
  },
  {
   "cell_type": "markdown",
   "metadata": {},
   "source": [
    "In this example, we will use one of the most popular and widely used annotated facial databases, the Labeled Faces Parts in the Wild (LFPW) database. Both images and corresponding facial landmark annotations are publicly available and can be downloaded from the following link: \n",
    "\n",
    "* http://ibug.doc.ic.ac.uk/download/annotations/lfpw.zip/ \n",
    "\n",
    "In order to continue with this notebook, the user is required to simply: \n",
    " \n",
    "* Click on the previous link.\n",
    "* Fill out the form with his/her details. \n",
    "* Proceed to download the LFPW database. \n",
    "* Unzip and save the LFPW database to a location of his/her like.\n",
    "* Paste the path to the local copy of the LFPW database on the next cell.\n",
    " \n",
    "Note that the `.zip` file containing the whole annotated database is of approximately 350MB."
   ]
  },
  {
   "cell_type": "code",
   "execution_count": 12,
   "metadata": {
    "collapsed": false
   },
   "outputs": [],
   "source": [
    "path_to_lfpw = Path('/vol/atlas/databases/lfpw')\n",
    "# path_to_lfpw = Path('/Users/pts08/data/lfpw')"
   ]
  },
  {
   "cell_type": "markdown",
   "metadata": {},
   "source": [
    "Let's load the shapes"
   ]
  },
  {
   "cell_type": "code",
   "execution_count": 13,
   "metadata": {
    "collapsed": false
   },
   "outputs": [
    {
     "ename": "ValueError",
     "evalue": "The glob /vol/atlas/databases/lfpw/trainset/*.pts yields no assets",
     "output_type": "error",
     "traceback": [
      "\u001b[0;31m---------------------------------------------------------------------------\u001b[0m",
      "\u001b[0;31mValueError\u001b[0m                                Traceback (most recent call last)",
      "\u001b[0;32m<ipython-input-13-09980755a637>\u001b[0m in \u001b[0;36m<module>\u001b[0;34m()\u001b[0m\n\u001b[1;32m      1\u001b[0m \u001b[0;32mimport\u001b[0m \u001b[0mmenpo\u001b[0m\u001b[0;34m.\u001b[0m\u001b[0mio\u001b[0m \u001b[0;32mas\u001b[0m \u001b[0mmio\u001b[0m\u001b[0;34m\u001b[0m\u001b[0m\n\u001b[1;32m      2\u001b[0m shapes = [s['all'] for s in mio.import_landmark_files(path_to_lfpw / 'trainset' / '*.pts', \n\u001b[0;32m----> 3\u001b[0;31m                                                       as_generator=True, verbose=True)]\n\u001b[0m",
      "\u001b[0;32m/Users/Lee/Desktop/Menpo_Playground_With_Mynotes/menpo_playground/src/lib/python3.5/site-packages/menpo/io/input/base.py\u001b[0m in \u001b[0;36mimport_landmark_files\u001b[0;34m(pattern, max_landmarks, shuffle, as_generator, verbose)\u001b[0m\n\u001b[1;32m    625\u001b[0m     return _import_glob_lazy_list(pattern, image_landmark_types,\n\u001b[1;32m    626\u001b[0m                                   \u001b[0mmax_assets\u001b[0m\u001b[0;34m=\u001b[0m\u001b[0mmax_landmarks\u001b[0m\u001b[0;34m,\u001b[0m \u001b[0mshuffle\u001b[0m\u001b[0;34m=\u001b[0m\u001b[0mshuffle\u001b[0m\u001b[0;34m,\u001b[0m\u001b[0;34m\u001b[0m\u001b[0m\n\u001b[0;32m--> 627\u001b[0;31m                                   as_generator=as_generator, verbose=verbose)\n\u001b[0m\u001b[1;32m    628\u001b[0m \u001b[0;34m\u001b[0m\u001b[0m\n\u001b[1;32m    629\u001b[0m \u001b[0;34m\u001b[0m\u001b[0m\n",
      "\u001b[0;32m/Users/Lee/Desktop/Menpo_Playground_With_Mynotes/menpo_playground/src/lib/python3.5/site-packages/menpo/io/input/base.py\u001b[0m in \u001b[0;36m_import_glob_lazy_list\u001b[0;34m(pattern, extension_map, max_assets, landmark_resolver, shuffle, as_generator, landmark_ext_map, landmark_attach_func, importer_kwargs, verbose)\u001b[0m\n\u001b[1;32m    693\u001b[0m     \u001b[0mn_files\u001b[0m \u001b[0;34m=\u001b[0m \u001b[0mlen\u001b[0m\u001b[0;34m(\u001b[0m\u001b[0mfilepaths\u001b[0m\u001b[0;34m)\u001b[0m\u001b[0;34m\u001b[0m\u001b[0m\n\u001b[1;32m    694\u001b[0m     \u001b[0;32mif\u001b[0m \u001b[0mn_files\u001b[0m \u001b[0;34m==\u001b[0m \u001b[0;36m0\u001b[0m\u001b[0;34m:\u001b[0m\u001b[0;34m\u001b[0m\u001b[0m\n\u001b[0;32m--> 695\u001b[0;31m         \u001b[0;32mraise\u001b[0m \u001b[0mValueError\u001b[0m\u001b[0;34m(\u001b[0m\u001b[0;34m'The glob {} yields no assets'\u001b[0m\u001b[0;34m.\u001b[0m\u001b[0mformat\u001b[0m\u001b[0;34m(\u001b[0m\u001b[0mpattern\u001b[0m\u001b[0;34m)\u001b[0m\u001b[0;34m)\u001b[0m\u001b[0;34m\u001b[0m\u001b[0m\n\u001b[0m\u001b[1;32m    696\u001b[0m \u001b[0;34m\u001b[0m\u001b[0m\n\u001b[1;32m    697\u001b[0m     lazy_list = LazyList([partial(_import, f, extension_map,\n",
      "\u001b[0;31mValueError\u001b[0m: The glob /vol/atlas/databases/lfpw/trainset/*.pts yields no assets"
     ]
    }
   ],
   "source": [
    "import menpo.io as mio\n",
    "shapes = [s['all'] for s in mio.import_landmark_files(path_to_lfpw / 'trainset' / '*.pts', \n",
    "                                                      as_generator=True, verbose=True)]"
   ]
  },
  {
   "cell_type": "markdown",
   "metadata": {},
   "source": [
    "We can visualize them using the `visualize_pointclouds` widget."
   ]
  },
  {
   "cell_type": "code",
   "execution_count": null,
   "metadata": {
    "collapsed": false
   },
   "outputs": [],
   "source": [
    "from menpowidgets import visualize_pointclouds\n",
    "\n",
    "visualize_pointclouds(shapes)"
   ]
  },
  {
   "cell_type": "markdown",
   "metadata": {},
   "source": [
    "It is very easy to align the shapes"
   ]
  },
  {
   "cell_type": "code",
   "execution_count": null,
   "metadata": {
    "collapsed": false
   },
   "outputs": [],
   "source": [
    "from menpo.transform import Translation\n",
    "\n",
    "# centralize shapes\n",
    "centered_shapes = [Translation(-s.centre()).apply(s) for s in shapes]\n",
    "\n",
    "# align centralized shape using Procrustes Analysis\n",
    "gpa = GeneralizedProcrustesAnalysis(centered_shapes)\n",
    "\n",
    "print(gpa)\n",
    "\n",
    "# get the aligned shapes\n",
    "aligned_shapes = [s.aligned_source() for s in gpa.transforms]"
   ]
  },
  {
   "cell_type": "markdown",
   "metadata": {},
   "source": [
    "Let's see the result!"
   ]
  },
  {
   "cell_type": "code",
   "execution_count": null,
   "metadata": {
    "collapsed": false
   },
   "outputs": [],
   "source": [
    "n_shapes = 101\n",
    "\n",
    "plt.subplot(121)\n",
    "plt.title('Before GPA')\n",
    "for s in shapes[:n_shapes]:\n",
    "    s.view(axes_x_limits=10, axes_y_limits=10)\n",
    "    \n",
    "plt.subplot(122)\n",
    "plt.title('After GPA')\n",
    "for s in aligned_shapes[:n_shapes]:\n",
    "    s.view()"
   ]
  }
 ],
 "metadata": {
  "kernelspec": {
   "display_name": "Python 3",
   "language": "python",
   "name": "python3"
  },
  "language_info": {
   "codemirror_mode": {
    "name": "ipython",
    "version": 3
   },
   "file_extension": ".py",
   "mimetype": "text/x-python",
   "name": "python",
   "nbconvert_exporter": "python",
   "pygments_lexer": "ipython3",
   "version": "3.5.2"
  }
 },
 "nbformat": 4,
 "nbformat_minor": 0
}
