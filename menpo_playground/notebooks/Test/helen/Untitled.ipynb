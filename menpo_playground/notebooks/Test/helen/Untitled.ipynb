{
 "cells": [
  {
   "cell_type": "code",
   "execution_count": 1,
   "metadata": {
    "collapsed": false
   },
   "outputs": [
    {
     "name": "stdout",
     "output_type": "stream",
     "text": [
      "Found 2000 assets, index the returned LazyList to import.\n",
      "[====================] 100% (2000/2000) - done.                                 \n",
      "- Computing reference shape                                                     Computing batch 0\n",
      "- Building models\n",
      "  - Scale 0: Done\n",
      "  - Scale 1: Done\n",
      "                                                              "
     ]
    }
   ],
   "source": [
    "import menpo.io as mio\n",
    "import os, sys\n",
    "from menpofit.aam import HolisticAAM, LucasKanadeAAMFitter, PatchAAM\n",
    "from menpo.feature import fast_dsift, double_igo\n",
    "from menpo.visualize import print_progress\n",
    "from menpo.landmark import labeller, face_ibug_68_to_face_ibug_68_trimesh\n",
    "from menpofit.fitter import noisy_shape_from_bounding_box\n",
    "\n",
    "#file path\n",
    "train_dir =  './trainset/'\n",
    "saveFinalDir = './paam/'\n",
    "data_dir = './t/'\n",
    "\n",
    "#landmark resolver takes image path\n",
    "def find_landmark(asset):\n",
    "    index = str(asset).rfind('/') + 1\n",
    "    anotation_dir + str(asset)[ index: -4 ]\n",
    "    return { \"MyAAM\": os.path.abspath( anotation_dir + '/' + str(asset)[ index: -4 ] + '.pts' ) }\n",
    "\n",
    "#lazy import. copy from menpo\n",
    "def load_dataTrain(path_to_images, crop_percentage, max_images=None):\n",
    "    images = []\n",
    "    # load landmarked images\n",
    "    for i in print_progress(mio.import_images(path_to_images, max_images=max_images, verbose=True)):\n",
    "        # crop image\n",
    "        i = i.crop_to_landmarks_proportion(crop_percentage)\n",
    "        i = i.resize((804,688))\n",
    "        # convert it to grayscale if needed\n",
    "        if i.n_channels == 3:\n",
    "            i = i.as_greyscale()\n",
    "        # append it to the list\n",
    "        #labeller(i, 'PTS', face_ibug_68_to_face_ibug_68_trimesh)\n",
    "        images.append(i)\n",
    "    return images\n",
    "\n",
    "def load_dataPredict(path_to_images,max_images=None):\n",
    "    images = []\n",
    "    # load landmarked images\n",
    "    for i in print_progress(mio.import_images(path_to_images,max_images=max_images, verbose=True)):\n",
    "        images.append(i)\n",
    "    return images\n",
    "\n",
    "\n",
    "training_images = load_dataTrain(train_dir, 0.2)\n",
    "\n",
    "\n",
    "# aam = HolisticAAM(training_images, group='face_ibug_68_trimesh', diagonal=150, \n",
    "#     scales=(0.5, 1.0), holistic_features=fast_dsift, verbose=True,\n",
    "#                         max_shape_components=20, max_appearance_components=150)\n",
    "aam = PatchAAM(training_images, group='PTS', patch_shape=[(15, 15), (23, 23)],\n",
    "                     diagonal=150, scales=(0.5, 1.0), holistic_features=fast_dsift,\n",
    "                     max_shape_components=20, max_appearance_components=200,\n",
    "                     verbose=True)\n",
    "\n",
    "mio.export_pickle(aam, './aammtrained.pkl', overwrite=False, protocol=2)\n",
    "fitter = LucasKanadeAAMFitter(aam,n_shape=[5, 20], \n",
    "                              n_appearance=[30, 150])\n",
    "\n"
   ]
  },
  {
   "cell_type": "code",
   "execution_count": 2,
   "metadata": {
    "collapsed": false
   },
   "outputs": [
    {
     "ename": "IndentationError",
     "evalue": "expected an indented block (<ipython-input-2-f3ea8dfc5d63>, line 11)",
     "output_type": "error",
     "traceback": [
      "\u001b[0;36m  File \u001b[0;32m\"<ipython-input-2-f3ea8dfc5d63>\"\u001b[0;36m, line \u001b[0;32m11\u001b[0m\n\u001b[0;31m    result = fitter.fit_from_bb(img, img.landmarks['BBox'].lms, max_iters=[15, 5])\u001b[0m\n\u001b[0m         ^\u001b[0m\n\u001b[0;31mIndentationError\u001b[0m\u001b[0;31m:\u001b[0m expected an indented block\n"
     ]
    }
   ],
   "source": [
    "%matplotlib inline\n",
    "files = [ name for name in os.listdir( data_dir ) if name.endswith('.png') ]\n",
    "# ErrorFile = []\n",
    "for file in print_progress(files):\n",
    "    fileName = file[:-4]\n",
    "    img = mio.import_image(data_dir + file )\n",
    "    img.landmarks['BBox'] = img.landmarks['PTS'].lms.bounding_box()\n",
    "    #s = noisy_shape_from_bounding_box(gt_s, gt_s.bounding_box())\n",
    "    try:\n",
    "    #result = fitter.fit_from_shape(img,  img.landmarks['BBox'].lms,max_iters=[15, 5])\n",
    "    result = fitter.fit_from_bb(img, img.landmarks['BBox'].lms, max_iters=[15, 5])\n",
    "    #result.view(render_initial_shape=True)\n",
    "    #lmks = result.final_shape.as_pointgraph()\n",
    "    #lmks.landmarks['PTS'] = result.final_shape\n",
    "    #mio.export_landmark_file(lmks.landmarks['PTS'], saveFinalDir + fileName +'_kpt.pts', overwrite=True)\n",
    "    lmks = result.final_shape\n",
    "    lmks.landmarks['PTS'] = lmks\n",
    "    mio.export_landmark_file(lmks.landmarks['PTS'], saveFinalDir + fileName +'_kpt.pts', overwrite=True)\n",
    "    except:\n",
    "        pass\n",
    "\n",
    "\n",
    "   \n",
    "    #mio.export_landmark_file(result.final_shape.landmarks['PTS'], saveFinalDir + fileName +'_kpt.pts', overwrite=True)"
   ]
  },
  {
   "cell_type": "code",
   "execution_count": null,
   "metadata": {
    "collapsed": false
   },
   "outputs": [],
   "source": [
    "from menpowidgets import visualize_images\n",
    "from menpodetect import load_dlib_frontal_face_detector\n",
    "# # Load detector\n",
    "from menpofit.aam import WibergInverseCompositional\n",
    "\n",
    "fitter = LucasKanadeAAMFitter(aam, n_shape=[5, 20], n_appearance=[30, 150])\n",
    "\n",
    "\n",
    "detect = load_dlib_frontal_face_detector()\n",
    "\n",
    "a = mio.import_image(\"./t/127627778_1.jpg\")\n",
    "a = a.as_greyscale()\n",
    "\n",
    "a.landmarks['BBox'] = a.landmarks['PTS'].lms.bounding_box()\n",
    "result = fitter.fit_from_bb(a, a.landmarks['BBox'].lms,max_iters=50)\n",
    "result.view_widget()"
   ]
  },
  {
   "cell_type": "code",
   "execution_count": null,
   "metadata": {
    "collapsed": true
   },
   "outputs": [],
   "source": []
  }
 ],
 "metadata": {
  "kernelspec": {
   "display_name": "Python 3",
   "language": "python",
   "name": "python3"
  },
  "language_info": {
   "codemirror_mode": {
    "name": "ipython",
    "version": 3
   },
   "file_extension": ".py",
   "mimetype": "text/x-python",
   "name": "python",
   "nbconvert_exporter": "python",
   "pygments_lexer": "ipython3",
   "version": "3.5.2"
  }
 },
 "nbformat": 4,
 "nbformat_minor": 0
}
